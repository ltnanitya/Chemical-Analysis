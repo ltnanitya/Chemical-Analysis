{
 "cells": [
  {
   "cell_type": "markdown",
   "metadata": {},
   "source": [
    "# Analysis chemical dataset"
   ]
  },
  {
   "cell_type": "markdown",
   "metadata": {},
   "source": [
    "# 1. Classification on the given dataset"
   ]
  },
  {
   "cell_type": "code",
   "execution_count": 1,
   "metadata": {},
   "outputs": [],
   "source": [
    "from sklearn.cluster import KMeans\n",
    "import numpy as np\n",
    "import matplotlib.pyplot as plt"
   ]
  },
  {
   "cell_type": "markdown",
   "metadata": {},
   "source": [
    "The data given was<br/>\n",
    "p1 = [1, 0.9, 1.1, 1, 1, 1, 6, 6.1, 6.2, 6, 6, 6, 6, 6, 6, 1, 0.1, 0.1, 0.1, 0.1]<br/>\n",
    "p2 = [1, 1.5, 3, 1, 2, 2, 13, 12, 11, 12.5, 10, 14, 12, 12, 11, 1, 3, 1.5, 1, 2]<br/>\n",
    "p3 = [1.1, 1.3, 0, 1, 1.1, 1.2, 1, 1, 1, 1, 1, 1, 1, 1, 1, 1, 1.1, 2.1, 3.1, 0.1]<br/>\n",
    "p4 = [5, 5, 5, 5, 5, 5, 6, 7, 2, 4, 5, 2, 7, 8, 4, 6, 5, 5, 6, 3]<br/>\n",
    "p5 = [1, 1, 3, 1, 2, 1, 0.1, 0.1, 0.1, 0.1, 1, 1, 1, 20, 21, 21, 22.1, 19.1, 18.1, 16.1]<br/>\n",
    "p6 = [23, 23, 23, 22.5, 21, 22.75, 25, 26, 24, 25, 27, 25, 21, 23, 1, 1, 0.1, 0.1, 0.1, 0.1]<br/>\n",
    "p7 = [1, 1, 1, 1, 1, 1, 2.1, 1.3, 2.0, 0.5, 1, 1, 1, 1, 1, 1, 0.1, 0.1, 0.1, 0.1]<br/>"
   ]
  },
  {
   "cell_type": "code",
   "execution_count": 2,
   "metadata": {},
   "outputs": [],
   "source": [
    "p1 = [1, 0.9, 1.1, 1, 1, 1, 6, 6.1, 6.2, 6, 6, 6, 6, 6, 6, 1, 0.1, 0.1, 0.1, 0.1]\n",
    "p2 = [1, 1.5, 3, 1, 2, 2, 13, 12, 11, 12.5, 10, 14, 12, 12, 11, 1, 3, 1.5, 1, 2]\n",
    "p3 = [1.1, 1.3, 0, 1, 1.1, 1.2, 1, 1, 1, 1, 1, 1, 1, 1, 1, 1, 1.1, 2.1, 3.1, 0.1]\n",
    "p4 = [5, 5, 5, 5, 5, 5, 6, 7, 2, 4, 5, 2, 7, 8, 4, 6, 5, 5, 6, 3]\n",
    "p5 = [1, 1, 3, 1, 2, 1, 0.1, 0.1, 0.1, 0.1, 1, 1, 1, 20, 21, 21, 22.1, 19.1, 18.1, 16.1]\n",
    "p6 = [23, 23, 23, 22.5, 21, 22.75, 25, 26, 24, 25, 27, 25, 21, 23, 1, 1, 0.1, 0.1, 0.1, 0.1]\n",
    "p7 = [1, 1, 1, 1, 1, 1, 2.1, 1.3, 2.0, 0.5, 1, 1, 1, 1, 1, 1, 0.1, 0.1, 0.1, 0.1]\n",
    "X = np.array([p1, p2, p3, p4, p5, p6, p7])\n"
   ]
  },
  {
   "cell_type": "markdown",
   "metadata": {},
   "source": [
    "Use K-means clustering to label the data"
   ]
  },
  {
   "cell_type": "code",
   "execution_count": 3,
   "metadata": {},
   "outputs": [
    {
     "name": "stdout",
     "output_type": "stream",
     "text": [
      "Labels vector:\n",
      "[1 1 1 1 0 2 1]\n"
     ]
    }
   ],
   "source": [
    "kmeans = KMeans(n_clusters=3, random_state=0).fit(X)\n",
    "print('Labels vector:')\n",
    "print(kmeans.labels_)\n",
    "y = kmeans.predict(X)"
   ]
  },
  {
   "cell_type": "markdown",
   "metadata": {},
   "source": [
    "# 2. Generate more data from the given dataset"
   ]
  },
  {
   "cell_type": "markdown",
   "metadata": {},
   "source": [
    "**To generate more data for training from the given data, first we should calculate *mean* and *standard*\n",
    "of those data to find the statistical characteristics of them. Generated data will intuitively be around these points.**  "
   ]
  },
  {
   "cell_type": "code",
   "execution_count": 4,
   "metadata": {},
   "outputs": [
    {
     "name": "stdout",
     "output_type": "stream",
     "text": [
      "[[3.0850000000000004, 2.686684760071415], [6.325, 5.165450125594091], [1.1050000000000002, 0.6070214164261423], [5.0, 1.4832396974191326], [7.489999999999999, 9.000216664058705], [16.682500000000005, 10.755780713179307], [0.9150000000000003, 0.531295586279427]]\n"
     ]
    }
   ],
   "source": [
    "# Calculate mean and std of the given data\n",
    "stat = []\n",
    "for i in range(len(X)):\n",
    "    stat_0 = []\n",
    "    stat_0.append(np.array(X[i]).mean())\n",
    "    stat_0.append(np.array(X[i]).std())\n",
    "    stat.append(stat_0)\n",
    "# Print [mean, sdt] calculated\n",
    "print (stat)"
   ]
  },
  {
   "cell_type": "markdown",
   "metadata": {},
   "source": [
    "Use K-means clustering to automatically label data when we add two more labels"
   ]
  },
  {
   "cell_type": "code",
   "execution_count": 6,
   "metadata": {},
   "outputs": [
    {
     "name": "stdout",
     "output_type": "stream",
     "text": [
      "[1 4 3 1 0 2 3]\n"
     ]
    }
   ],
   "source": [
    "kmeans_new = KMeans(n_clusters=5, random_state=0).fit(X)\n",
    "y_new = kmeans_new.predict(X)\n",
    "print (y_new)"
   ]
  },
  {
   "cell_type": "markdown",
   "metadata": {},
   "source": [
    "As we observe above, the given dataset is too small to be grouped into 5 different clusters. Hence we will create more data from those by generating random vectors followed the normal distribution having Mean and Std calculated previously. Here we take the postive values with only one digit after decimal point which are similar to the given data."
   ]
  },
  {
   "cell_type": "code",
   "execution_count": 7,
   "metadata": {},
   "outputs": [],
   "source": [
    "X_norm = []\n",
    "\n",
    "for i in range(200):\n",
    "    X_norm.append(abs(np.around(np.random.normal(stat[0][0], stat[0][1], len(p1)),1)))\n",
    "    X_norm.append(abs(np.around(np.random.normal(stat[1][0], stat[1][1], len(p1)),1)))\n",
    "    X_norm.append(abs(np.around(np.random.normal(stat[2][0], stat[2][1], len(p1)),1)))\n",
    "    X_norm.append(abs(np.around(np.random.normal(stat[3][0], stat[3][1], len(p1)),1)))\n",
    "    X_norm.append(abs(np.around(np.random.normal(stat[4][0], stat[4][1], len(p1)),1)))"
   ]
  },
  {
   "cell_type": "markdown",
   "metadata": {},
   "source": [
    "The expanded dataset now contains 1000 samples which have the similar statistical characteristics to the first seven data samples given. It's enough to group 5 clusters. Indeed, if we do K-means clustering again, we have"
   ]
  },
  {
   "cell_type": "code",
   "execution_count": 8,
   "metadata": {
    "scrolled": true
   },
   "outputs": [
    {
     "name": "stdout",
     "output_type": "stream",
     "text": [
      "Labels of new dataset\n",
      "[2 3 0 2 3 2 3 0 2 1 2 3 0 2 3 2 3 0 2 4 2 2 0 2 3 2 3 0 2 3 2 3 0 2 1 2 3\n",
      " 0 2 4 2 3 0 2 1 2 2 0 2 4 2 3 0 2 4 2 3 0 2 4 2 3 0 2 1 2 3 0 2 3 2 3 0 2\n",
      " 4 0 2 0 2 1 2 3 0 2 1 2 2 0 2 1 2 3 0 2 3 2 4 0 2 3 2 4 0 2 1 0 4 0 2 4 0\n",
      " 3 0 3 3 2 4 0 2 3 0 2 0 2 4 2 3 0 2 3 2 2 0 2 4 2 3 0 2 3 2 3 0 2 1 2 3 0\n",
      " 2 4 2 3 0 2 3 2 3 0 2 3 2 3 0 2 4 2 3 0 2 3 2 3 0 2 1 2 3 0 2 1 0 3 0 2 3\n",
      " 2 2 0 2 1 2 3 0 2 4 2 2 0 2 4 2 3 0 2 3 2 3 0 2 3 0 3 0 2 3 2 3 0 2 1 2 3\n",
      " 0 2 1 0 3 0 2 3 2 2 0 2 1 2 3 0 2 4 2 2 0 2 3 2 3 0 2 3 2 3 0 2 3 2 3 0 2\n",
      " 1 0 3 0 2 4 2 4 0 2 4 2 3 0 2 1 2 2 0 2 3 2 2 0 2 4 2 2 0 2 1 2 3 0 2 1 2\n",
      " 2 0 2 1 2 3 0 2 3 2 3 0 2 4 2 3 0 2 4 2 3 0 2 4 0 3 0 2 3 0 3 0 2 1 2 2 0\n",
      " 2 4 2 3 0 2 4 2 2 0 2 3 2 3 0 2 4 2 4 0 2 4 2 2 0 2 1 0 3 0 2 3 2 3 0 2 1\n",
      " 0 3 0 2 1 2 4 0 2 1 2 3 0 2 4 2 3 0 2 3 2 3 0 2 4 2 2 0 2 4 2 3 0 2 1 2 3\n",
      " 0 2 1 2 2 0 2 3 2 3 0 2 3 2 3 0 2 1 2 3 0 2 4 2 3 0 2 4 2 3 0 2 1 2 4 0 2\n",
      " 1 2 2 0 2 4 2 2 0 2 3 0 2 0 2 3 2 3 0 2 4 2 3 0 2 4 0 3 0 2 4 2 3 0 2 3 2\n",
      " 3 0 2 4 2 3 0 2 1 2 3 0 2 1 2 3 0 2 1 0 3 0 2 3 2 3 0 2 3 2 4 0 2 4 2 3 0\n",
      " 2 4 2 3 0 2 1 2 3 0 2 4 2 3 0 2 3 2 3 0 2 2 2 3 0 2 3 2 3 0 2 1 0 3 0 2 3\n",
      " 2 3 0 2 1 2 1 0 2 1 2 3 0 2 4 0 4 0 2 4 2 3 0 2 3 0 2 0 2 3 2 3 0 2 3 2 3\n",
      " 0 2 1 2 3 0 2 4 2 3 0 2 4 2 3 0 2 3 2 3 0 2 3 2 3 0 2 4 0 2 0 2 3 2 3 0 2\n",
      " 4 2 3 0 2 4 2 3 0 2 4 2 3 0 2 4 2 3 0 2 1 2 2 0 2 4 2 3 0 2 1 2 3 0 2 1 2\n",
      " 3 0 2 3 2 3 0 2 3 2 2 0 2 4 2 4 0 2 1 2 3 0 2 3 2 3 0 2 1 0 3 0 2 2 2 2 0\n",
      " 2 1 2 3 0 2 4 0 3 0 2 1 2 2 0 2 1 2 3 0 2 1 0 3 0 2 4 2 3 0 2 1 2 2 0 2 1\n",
      " 2 3 0 2 4 2 3 0 2 4 2 1 0 2 3 2 3 0 2 4 0 3 0 2 4 2 3 0 2 4 2 3 0 2 1 2 3\n",
      " 0 2 4 2 3 0 2 4 2 3 0 2 4 2 2 0 2 1 2 4 0 2 4 0 3 0 2 4 2 3 0 2 4 2 3 0 2\n",
      " 4 2 3 0 2 1 2 3 0 2 1 2 3 0 2 3 2 3 0 2 4 2 2 0 2 4 2 3 0 2 3 2 3 0 2 4 2\n",
      " 3 0 2 4 2 2 0 2 4 2 2 0 2 1 2 3 0 2 1 2 3 0 2 4 2 3 0 2 1 2 3 0 2 1 2 3 0\n",
      " 2 1 2 3 0 2 1 2 1 0 2 1 2 3 0 2 4 2 3 0 2 3 2 3 0 2 3 0 3 0 2 3 2 3 0 2 4\n",
      " 2 3 0 2 4 2 2 0 2 1 2 3 0 2 1 0 3 0 2 3 2 3 0 2 1 2 3 0 2 3 2 3 0 2 3 2 1\n",
      " 0 2 1 2 3 0 2 2 2 2 0 2 4 2 3 0 2 3 2 3 0 2 1 2 3 0 2 4 2 3 0 2 3 2 3 0 2\n",
      " 3]\n"
     ]
    }
   ],
   "source": [
    "kmeans_norm = KMeans(n_clusters=5).fit(X_norm)\n",
    "y_norm = kmeans_norm.predict(X_norm)\n",
    "print ('Labels of new dataset')\n",
    "print (y_norm)"
   ]
  },
  {
   "cell_type": "markdown",
   "metadata": {},
   "source": [
    "To visualize the relationship between features of data and the labels, we put them into a dataframe.<br/>\n",
    "As we can see, the new dataset also has 20 feautures and is distributed pretty the same with the first provided data."
   ]
  },
  {
   "cell_type": "code",
   "execution_count": 9,
   "metadata": {},
   "outputs": [
    {
     "data": {
      "text/html": [
       "<div>\n",
       "<style scoped>\n",
       "    .dataframe tbody tr th:only-of-type {\n",
       "        vertical-align: middle;\n",
       "    }\n",
       "\n",
       "    .dataframe tbody tr th {\n",
       "        vertical-align: top;\n",
       "    }\n",
       "\n",
       "    .dataframe thead th {\n",
       "        text-align: right;\n",
       "    }\n",
       "</style>\n",
       "<table border=\"1\" class=\"dataframe\">\n",
       "  <thead>\n",
       "    <tr style=\"text-align: right;\">\n",
       "      <th></th>\n",
       "      <th>x1</th>\n",
       "      <th>x2</th>\n",
       "      <th>x3</th>\n",
       "      <th>x4</th>\n",
       "      <th>x5</th>\n",
       "      <th>x6</th>\n",
       "      <th>x7</th>\n",
       "      <th>x8</th>\n",
       "      <th>x9</th>\n",
       "      <th>x10</th>\n",
       "      <th>...</th>\n",
       "      <th>x12</th>\n",
       "      <th>x13</th>\n",
       "      <th>x14</th>\n",
       "      <th>x15</th>\n",
       "      <th>x16</th>\n",
       "      <th>x17</th>\n",
       "      <th>x18</th>\n",
       "      <th>x19</th>\n",
       "      <th>x20</th>\n",
       "      <th>label</th>\n",
       "    </tr>\n",
       "  </thead>\n",
       "  <tbody>\n",
       "    <tr>\n",
       "      <th>0</th>\n",
       "      <td>0.8</td>\n",
       "      <td>7.3</td>\n",
       "      <td>3.0</td>\n",
       "      <td>2.5</td>\n",
       "      <td>2.6</td>\n",
       "      <td>5.2</td>\n",
       "      <td>0.2</td>\n",
       "      <td>2.2</td>\n",
       "      <td>0.7</td>\n",
       "      <td>5.7</td>\n",
       "      <td>...</td>\n",
       "      <td>3.4</td>\n",
       "      <td>0.8</td>\n",
       "      <td>2.9</td>\n",
       "      <td>1.0</td>\n",
       "      <td>4.2</td>\n",
       "      <td>5.9</td>\n",
       "      <td>0.5</td>\n",
       "      <td>4.0</td>\n",
       "      <td>2.7</td>\n",
       "      <td>2</td>\n",
       "    </tr>\n",
       "    <tr>\n",
       "      <th>1</th>\n",
       "      <td>4.2</td>\n",
       "      <td>0.4</td>\n",
       "      <td>7.4</td>\n",
       "      <td>4.0</td>\n",
       "      <td>5.4</td>\n",
       "      <td>1.2</td>\n",
       "      <td>1.6</td>\n",
       "      <td>4.1</td>\n",
       "      <td>3.9</td>\n",
       "      <td>2.9</td>\n",
       "      <td>...</td>\n",
       "      <td>9.3</td>\n",
       "      <td>12.8</td>\n",
       "      <td>10.5</td>\n",
       "      <td>1.2</td>\n",
       "      <td>10.1</td>\n",
       "      <td>10.1</td>\n",
       "      <td>1.9</td>\n",
       "      <td>9.0</td>\n",
       "      <td>5.6</td>\n",
       "      <td>3</td>\n",
       "    </tr>\n",
       "    <tr>\n",
       "      <th>2</th>\n",
       "      <td>1.0</td>\n",
       "      <td>1.7</td>\n",
       "      <td>0.7</td>\n",
       "      <td>0.6</td>\n",
       "      <td>1.2</td>\n",
       "      <td>0.7</td>\n",
       "      <td>1.4</td>\n",
       "      <td>1.5</td>\n",
       "      <td>1.7</td>\n",
       "      <td>0.1</td>\n",
       "      <td>...</td>\n",
       "      <td>0.9</td>\n",
       "      <td>1.4</td>\n",
       "      <td>1.1</td>\n",
       "      <td>0.3</td>\n",
       "      <td>2.2</td>\n",
       "      <td>0.4</td>\n",
       "      <td>1.0</td>\n",
       "      <td>1.5</td>\n",
       "      <td>0.9</td>\n",
       "      <td>0</td>\n",
       "    </tr>\n",
       "    <tr>\n",
       "      <th>3</th>\n",
       "      <td>2.9</td>\n",
       "      <td>5.0</td>\n",
       "      <td>6.5</td>\n",
       "      <td>5.1</td>\n",
       "      <td>6.1</td>\n",
       "      <td>4.3</td>\n",
       "      <td>6.2</td>\n",
       "      <td>6.2</td>\n",
       "      <td>3.8</td>\n",
       "      <td>3.6</td>\n",
       "      <td>...</td>\n",
       "      <td>6.0</td>\n",
       "      <td>4.9</td>\n",
       "      <td>4.6</td>\n",
       "      <td>3.1</td>\n",
       "      <td>7.1</td>\n",
       "      <td>8.1</td>\n",
       "      <td>4.7</td>\n",
       "      <td>3.5</td>\n",
       "      <td>6.6</td>\n",
       "      <td>2</td>\n",
       "    </tr>\n",
       "    <tr>\n",
       "      <th>4</th>\n",
       "      <td>4.4</td>\n",
       "      <td>10.9</td>\n",
       "      <td>4.6</td>\n",
       "      <td>9.9</td>\n",
       "      <td>8.4</td>\n",
       "      <td>3.8</td>\n",
       "      <td>11.9</td>\n",
       "      <td>16.2</td>\n",
       "      <td>4.7</td>\n",
       "      <td>8.6</td>\n",
       "      <td>...</td>\n",
       "      <td>8.6</td>\n",
       "      <td>6.1</td>\n",
       "      <td>4.5</td>\n",
       "      <td>4.3</td>\n",
       "      <td>0.4</td>\n",
       "      <td>24.8</td>\n",
       "      <td>3.6</td>\n",
       "      <td>0.6</td>\n",
       "      <td>8.8</td>\n",
       "      <td>3</td>\n",
       "    </tr>\n",
       "    <tr>\n",
       "      <th>5</th>\n",
       "      <td>3.7</td>\n",
       "      <td>2.0</td>\n",
       "      <td>4.3</td>\n",
       "      <td>4.9</td>\n",
       "      <td>5.4</td>\n",
       "      <td>4.0</td>\n",
       "      <td>1.7</td>\n",
       "      <td>4.7</td>\n",
       "      <td>2.7</td>\n",
       "      <td>1.7</td>\n",
       "      <td>...</td>\n",
       "      <td>0.3</td>\n",
       "      <td>6.4</td>\n",
       "      <td>4.9</td>\n",
       "      <td>2.7</td>\n",
       "      <td>0.7</td>\n",
       "      <td>2.5</td>\n",
       "      <td>1.5</td>\n",
       "      <td>5.6</td>\n",
       "      <td>2.2</td>\n",
       "      <td>2</td>\n",
       "    </tr>\n",
       "    <tr>\n",
       "      <th>6</th>\n",
       "      <td>12.6</td>\n",
       "      <td>3.3</td>\n",
       "      <td>16.2</td>\n",
       "      <td>2.7</td>\n",
       "      <td>3.3</td>\n",
       "      <td>9.7</td>\n",
       "      <td>10.8</td>\n",
       "      <td>12.7</td>\n",
       "      <td>2.8</td>\n",
       "      <td>5.8</td>\n",
       "      <td>...</td>\n",
       "      <td>6.0</td>\n",
       "      <td>3.4</td>\n",
       "      <td>9.4</td>\n",
       "      <td>4.8</td>\n",
       "      <td>3.4</td>\n",
       "      <td>9.3</td>\n",
       "      <td>18.7</td>\n",
       "      <td>0.1</td>\n",
       "      <td>11.0</td>\n",
       "      <td>3</td>\n",
       "    </tr>\n",
       "    <tr>\n",
       "      <th>7</th>\n",
       "      <td>0.7</td>\n",
       "      <td>0.1</td>\n",
       "      <td>0.3</td>\n",
       "      <td>0.9</td>\n",
       "      <td>0.7</td>\n",
       "      <td>0.9</td>\n",
       "      <td>1.1</td>\n",
       "      <td>1.6</td>\n",
       "      <td>1.1</td>\n",
       "      <td>0.6</td>\n",
       "      <td>...</td>\n",
       "      <td>2.3</td>\n",
       "      <td>0.8</td>\n",
       "      <td>1.1</td>\n",
       "      <td>0.5</td>\n",
       "      <td>0.3</td>\n",
       "      <td>1.3</td>\n",
       "      <td>0.7</td>\n",
       "      <td>1.1</td>\n",
       "      <td>1.0</td>\n",
       "      <td>0</td>\n",
       "    </tr>\n",
       "    <tr>\n",
       "      <th>8</th>\n",
       "      <td>6.1</td>\n",
       "      <td>3.6</td>\n",
       "      <td>5.1</td>\n",
       "      <td>4.9</td>\n",
       "      <td>2.5</td>\n",
       "      <td>6.4</td>\n",
       "      <td>7.5</td>\n",
       "      <td>2.5</td>\n",
       "      <td>5.1</td>\n",
       "      <td>3.1</td>\n",
       "      <td>...</td>\n",
       "      <td>5.4</td>\n",
       "      <td>4.8</td>\n",
       "      <td>6.3</td>\n",
       "      <td>5.7</td>\n",
       "      <td>4.3</td>\n",
       "      <td>5.7</td>\n",
       "      <td>5.6</td>\n",
       "      <td>2.2</td>\n",
       "      <td>5.8</td>\n",
       "      <td>2</td>\n",
       "    </tr>\n",
       "    <tr>\n",
       "      <th>9</th>\n",
       "      <td>12.9</td>\n",
       "      <td>21.2</td>\n",
       "      <td>4.8</td>\n",
       "      <td>17.1</td>\n",
       "      <td>19.6</td>\n",
       "      <td>23.0</td>\n",
       "      <td>5.0</td>\n",
       "      <td>15.8</td>\n",
       "      <td>18.0</td>\n",
       "      <td>14.6</td>\n",
       "      <td>...</td>\n",
       "      <td>20.0</td>\n",
       "      <td>8.4</td>\n",
       "      <td>15.0</td>\n",
       "      <td>26.2</td>\n",
       "      <td>2.1</td>\n",
       "      <td>3.1</td>\n",
       "      <td>18.5</td>\n",
       "      <td>12.6</td>\n",
       "      <td>2.0</td>\n",
       "      <td>1</td>\n",
       "    </tr>\n",
       "  </tbody>\n",
       "</table>\n",
       "<p>10 rows × 21 columns</p>\n",
       "</div>"
      ],
      "text/plain": [
       "     x1    x2    x3    x4    x5    x6    x7    x8    x9   x10  ...   x12  \\\n",
       "0   0.8   7.3   3.0   2.5   2.6   5.2   0.2   2.2   0.7   5.7  ...   3.4   \n",
       "1   4.2   0.4   7.4   4.0   5.4   1.2   1.6   4.1   3.9   2.9  ...   9.3   \n",
       "2   1.0   1.7   0.7   0.6   1.2   0.7   1.4   1.5   1.7   0.1  ...   0.9   \n",
       "3   2.9   5.0   6.5   5.1   6.1   4.3   6.2   6.2   3.8   3.6  ...   6.0   \n",
       "4   4.4  10.9   4.6   9.9   8.4   3.8  11.9  16.2   4.7   8.6  ...   8.6   \n",
       "5   3.7   2.0   4.3   4.9   5.4   4.0   1.7   4.7   2.7   1.7  ...   0.3   \n",
       "6  12.6   3.3  16.2   2.7   3.3   9.7  10.8  12.7   2.8   5.8  ...   6.0   \n",
       "7   0.7   0.1   0.3   0.9   0.7   0.9   1.1   1.6   1.1   0.6  ...   2.3   \n",
       "8   6.1   3.6   5.1   4.9   2.5   6.4   7.5   2.5   5.1   3.1  ...   5.4   \n",
       "9  12.9  21.2   4.8  17.1  19.6  23.0   5.0  15.8  18.0  14.6  ...  20.0   \n",
       "\n",
       "    x13   x14   x15   x16   x17   x18   x19   x20  label  \n",
       "0   0.8   2.9   1.0   4.2   5.9   0.5   4.0   2.7      2  \n",
       "1  12.8  10.5   1.2  10.1  10.1   1.9   9.0   5.6      3  \n",
       "2   1.4   1.1   0.3   2.2   0.4   1.0   1.5   0.9      0  \n",
       "3   4.9   4.6   3.1   7.1   8.1   4.7   3.5   6.6      2  \n",
       "4   6.1   4.5   4.3   0.4  24.8   3.6   0.6   8.8      3  \n",
       "5   6.4   4.9   2.7   0.7   2.5   1.5   5.6   2.2      2  \n",
       "6   3.4   9.4   4.8   3.4   9.3  18.7   0.1  11.0      3  \n",
       "7   0.8   1.1   0.5   0.3   1.3   0.7   1.1   1.0      0  \n",
       "8   4.8   6.3   5.7   4.3   5.7   5.6   2.2   5.8      2  \n",
       "9   8.4  15.0  26.2   2.1   3.1  18.5  12.6   2.0      1  \n",
       "\n",
       "[10 rows x 21 columns]"
      ]
     },
     "execution_count": 9,
     "metadata": {},
     "output_type": "execute_result"
    }
   ],
   "source": [
    "import pandas as pd\n",
    "from pandas.plotting import scatter_matrix\n",
    "\n",
    "# First import obtained data as dataframe with features\n",
    "data_norm = pd.DataFrame(X_norm , columns=['x1', 'x2', 'x3',\\\n",
    "                         'x4','x5','x6','x7','x8','x9','x10',\\\n",
    "                    'x11','x12','x13','x14','x15','x16','x17',\\\n",
    "                                             'x18','x19','x20'])\n",
    "# Insert labels\n",
    "data_norm['label'] = y_norm\n",
    "# Display the first 10 rows\n",
    "data_norm.head(n=10)"
   ]
  },
  {
   "cell_type": "markdown",
   "metadata": {},
   "source": [
    "For the sake of better visualization, we should display those data on the Cartesian coordinate system. Note that this coordinator only shows 2D points therefore we cannot draw on it for our dataset with 20-dimensional features. Fortunately, t-SNE can help us.\n",
    "\n",
    "t-SNE is also a dimensionality reduction technique that facilitates better visualization for high dimensional data. However, different from PCA which is also an effective dimensionality reduction algorithm, t-SNE loses the global structure of the whole data, it only groups close neighbors into a cluster. Also for this reason, t-SNE is usually used as an excellent visualization method. "
   ]
  },
  {
   "cell_type": "code",
   "execution_count": 11,
   "metadata": {},
   "outputs": [
    {
     "data": {
      "image/png": "[encoded data removed]",
      "text/plain": [
       "<Figure size 420.25x360 with 1 Axes>"
      ]
     },
     "metadata": {
      "needs_background": "light"
     },
     "output_type": "display_data"
    }
   ],
   "source": [
    "from sklearn.manifold import TSNE\n",
    "import seaborn as sns\n",
    "X_embedded = TSNE(n_components=2).fit_transform(X_norm)\n",
    "tsne_df = pd.DataFrame({'X':X_embedded[:,0],\n",
    "                        'Y':X_embedded[:,1],\n",
    "                        'label':y_norm})\n",
    "tSNE = sns.relplot(x=\"X\", y=\"Y\",\n",
    "              hue=\"label\",\n",
    "              palette=['red','blue','green','yellow','black'],\n",
    "              legend='full',\n",
    "              data=tsne_df);\n",
    "tSNE.savefig('tSNE_chem.eps', format='eps', dpi=600)"
   ]
  },
  {
   "cell_type": "markdown",
   "metadata": {},
   "source": [
    "# 3. Implement Random Forest classification on extented dataset"
   ]
  },
  {
   "cell_type": "code",
   "execution_count": 14,
   "metadata": {},
   "outputs": [],
   "source": [
    "from sklearn.ensemble import RandomForestClassifier\n",
    "from sklearn.metrics import accuracy_score\n",
    "from sklearn import metrics\n",
    "from sklearn.metrics import f1_score\n",
    "from sklearn.model_selection import train_test_split\n",
    "from sklearn.model_selection import cross_val_score"
   ]
  },
  {
   "cell_type": "markdown",
   "metadata": {},
   "source": [
    "Using 10-fold cross validation to avoid the overfitting problem."
   ]
  },
  {
   "cell_type": "code",
   "execution_count": 15,
   "metadata": {},
   "outputs": [
    {
     "name": "stdout",
     "output_type": "stream",
     "text": [
      "Cross Validation Accuracy using Random Forest:  0.8760\n",
      "Cross Validation F-score using Random Forest:  0.7885\n"
     ]
    }
   ],
   "source": [
    "rf = RandomForestClassifier(random_state=0)\n",
    "rf_acc = cross_val_score(rf, X_norm, y_norm, cv=10).mean()\n",
    "rf_f1 = cross_val_score(rf, X_norm, y_norm, cv=10, scoring='f1_macro').mean()\n",
    "print ('Cross Validation Accuracy using Random Forest: ', \"%.4f\" % rf_acc)\n",
    "print ('Cross Validation F-score using Random Forest: ', \"%.4f\" % rf_f1)"
   ]
  },
  {
   "cell_type": "markdown",
   "metadata": {},
   "source": [
    "# Feature Selection "
   ]
  },
  {
   "cell_type": "markdown",
   "metadata": {},
   "source": [
    "**One of very important questions in our data is how important features are. More precisely, what kind of features that significantly contribute to classification performance? As such, feature selection is an effective way to facilitate the improvement in classification accuracy by choosing the most informative features/attributes. \n",
    "This work deploys two very common but formidable filter feature selection methods, they are Information Gain (IG) and Chi-square statistic (CHI). These methods are practically demonstrated in many applications in terms of avoiding overfitting and training time efficiency.**   "
   ]
  },
  {
   "cell_type": "code",
   "execution_count": 16,
   "metadata": {},
   "outputs": [],
   "source": [
    "import sklearn\n",
    "from info_gain import info_gain\n",
    "from sklearn.feature_selection import chi2"
   ]
  },
  {
   "cell_type": "code",
   "execution_count": 17,
   "metadata": {
    "scrolled": true
   },
   "outputs": [
    {
     "name": "stdout",
     "output_type": "stream",
     "text": [
      "Feature selection by Information Gain ordered by Importance:\n",
      " [12 13  5  3 11 15 16  6 14  4  7  0  2 17  1 19 18 10  9  8]\n",
      "Feature selection by Chi-square ordered by Importance:\n",
      " [12  3 11 17  5 13 14  8  0  7 15  4 18  2  1  9  6 16 10 19]\n"
     ]
    }
   ],
   "source": [
    "X_norm = np.array(X_norm)\n",
    "y_norm = np.array(y_norm)\n",
    "def infor_gain(k,X,y):\n",
    "    max_IG = []\n",
    "    for i in range(X.shape[1]):\n",
    "        feature = X[:,i]\n",
    "        ig = info_gain.info_gain(y, feature)\n",
    "        max_IG.append(ig)\n",
    "    max_IG = np.array(max_IG)\n",
    "    max_IG = max_IG.argsort()[-k:][::-1]\n",
    "    return max_IG\n",
    "\n",
    "def chi_square(k,X,y):\n",
    "    chi = sklearn.feature_selection.chi2(X,y)\n",
    "    max_CHI = chi[0].argsort()[-k:][::-1]\n",
    "    return max_CHI\n",
    "\n",
    "max_IG = infor_gain(20,X_norm,y_norm)\n",
    "max_CHI = chi_square(20,X_norm,y_norm)\n",
    "print ('Feature selection by Information Gain ordered by Importance:\\n', max_IG)\n",
    "print ('Feature selection by Chi-square ordered by Importance:\\n', max_CHI)"
   ]
  },
  {
   "cell_type": "markdown",
   "metadata": {},
   "source": [
    "The feature sets obtained by IG and CHI method above display the most important features by important order, which means the importance of a feature is followed by descending order (e.g. feature **x13** is more important than feature **x5** if using IG feature selection, while **x5** seems to be more important than feature **x13** when using CHI).\n",
    "\n",
    "Now we investigate how feature selection affects the overall performance "
   ]
  },
  {
   "cell_type": "code",
   "execution_count": 18,
   "metadata": {},
   "outputs": [],
   "source": [
    "rf_acc_ig = []\n",
    "rf_f1_ig = []\n",
    "rf_acc_chi = []\n",
    "rf_f1_chi = []\n",
    "for i in range(1,X_norm.shape[1]+1):\n",
    "    rf_acc_ig.append(cross_val_score(rf, X_norm[:,max_IG[0:i]], y_norm, cv=10).mean())\n",
    "    rf_f1_ig.append(cross_val_score(rf, X_norm[:,max_IG[0:i],], y_norm, cv=10, scoring='f1_macro').mean())\n",
    "    rf_acc_chi.append(cross_val_score(rf, X_norm[:,max_CHI[0:i]], y_norm, cv=10).mean())\n",
    "    rf_f1_chi.append(cross_val_score(rf, X_norm[:,max_CHI[0:i]], y_norm, cv=10, scoring='f1_macro').mean())\n",
    "    "
   ]
  },
  {
   "cell_type": "code",
   "execution_count": 19,
   "metadata": {},
   "outputs": [],
   "source": [
    "import matplotlib.pyplot as plt\n",
    "from matplotlib import pylab"
   ]
  },
  {
   "cell_type": "code",
   "execution_count": 20,
   "metadata": {},
   "outputs": [],
   "source": [
    "flen = [i for i in range(1,X_norm.shape[1]+1)]\n",
    "all_acc = []\n",
    "all_f1 = []\n",
    "for i in range((X_norm.shape[1])):\n",
    "    all_acc.append(rf_acc)\n",
    "    all_f1.append(rf_f1)"
   ]
  },
  {
   "cell_type": "code",
   "execution_count": 21,
   "metadata": {
    "scrolled": true
   },
   "outputs": [
    {
     "data": {
      "image/png": "[encoded data removed]",
      "text/plain": [
       "<Figure size 432x288 with 1 Axes>"
      ]
     },
     "metadata": {
      "needs_background": "light"
     },
     "output_type": "display_data"
    }
   ],
   "source": [
    "beingsaved = pylab.figure()\n",
    "pylab.xticks(range(1,21))\n",
    "pylab.plot(flen,rf_acc_ig, 'g-o',label='IG')\n",
    "pylab.plot(flen,rf_acc_chi, 'r-o',label='CHI')\n",
    "pylab.plot(flen,all_acc,'k--',label='All features')\n",
    "pylab.legend(loc='lower right')\n",
    "pylab.xlabel('Number of features')\n",
    "pylab.ylabel('Accuracy')\n",
    "pylab.show()"
   ]
  },
  {
   "cell_type": "code",
   "execution_count": 22,
   "metadata": {},
   "outputs": [
    {
     "name": "stdout",
     "output_type": "stream",
     "text": [
      "Best accuracy by using IG:  0.884\n",
      "Best accuracy by using CHI:  0.882\n"
     ]
    }
   ],
   "source": [
    "print ('Best accuracy by using IG: ', max(rf_acc_ig))\n",
    "print ('Best accuracy by using CHI: ', max(rf_acc_chi))"
   ]
  },
  {
   "cell_type": "markdown",
   "metadata": {},
   "source": [
    "Figure above shows the 10-fold cross validation by accuracy. Note that we also compare the performance of IG and CHI with that of when using all features represented by the dashed line. As we can see, CHI performs better than IG in general. However, IG can achieve the best accuracy with 16 features. It means that we can eliminate 4 least important features (i.e. feature **[x18,x10,x9,x8]**) to get the best performance. In case we only need a relative accuracy, we can remove 10 least important features in the CHI set to get the same accuracy with when using all features (because as in the figures above, we only need 10 features when using CHI to be on par with *All feature* baseline)."
   ]
  },
  {
   "cell_type": "code",
   "execution_count": 23,
   "metadata": {},
   "outputs": [
    {
     "data": {
      "image/png": "[encoded data removed]",
      "text/plain": [
       "<Figure size 432x288 with 1 Axes>"
      ]
     },
     "metadata": {
      "needs_background": "light"
     },
     "output_type": "display_data"
    }
   ],
   "source": [
    "beingsaved = pylab.figure()\n",
    "pylab.xticks(range(1,21))\n",
    "pylab.plot(flen,rf_f1_ig, 'g-o',label='IG')\n",
    "pylab.plot(flen,rf_f1_chi, 'r-o',label='CHI')\n",
    "pylab.plot(flen,all_f1,'k--',label='All features')\n",
    "pylab.legend(loc='lower right')\n",
    "pylab.xlabel('Number of features')\n",
    "pylab.ylabel('F-score')\n",
    "pylab.show()"
   ]
  },
  {
   "cell_type": "code",
   "execution_count": 24,
   "metadata": {},
   "outputs": [
    {
     "name": "stdout",
     "output_type": "stream",
     "text": [
      "Best F-score by using IG:  0.8241582832721773\n",
      "Best F-score by using CHI:  0.8147689500994778\n"
     ]
    }
   ],
   "source": [
    "print ('Best F-score by using IG: ', max(rf_f1_ig))\n",
    "print ('Best F-score by using CHI: ', max(rf_f1_chi))"
   ]
  },
  {
   "cell_type": "markdown",
   "metadata": {},
   "source": [
    "Figure above shows the 10-fold cross validation by F-score. Similar to accuracy, CHI also works better than IG. Noticeably, we only need 7 features by CHI to surpass the performance when using all the features given, and CHI creates a considerable distance of roughly 10% with IG. \n",
    "\n",
    "To conclude, I would strongly recommend using a set of features **[x12, x3, x11, x17, x5, x13, x14]** for our problem."
   ]
  },
  {
   "cell_type": "markdown",
   "metadata": {},
   "source": [
    "# 4 Implement PCA to enhance performance"
   ]
  },
  {
   "cell_type": "markdown",
   "metadata": {},
   "source": [
    "**Note that PCA is not a classifier, but a dimensionality reduction algorithm where new features are generated which represents the high dimensions of original features into a lower dimension with a little loss of the total information.**\n",
    "\n",
    "**So Is PCA aslo a feature selection method that is the same with IG and CHI? The answer is NO. PCA creates new features by combining correlated features, these new features are more informative and describe better information about data. By contrast, feature selection does not combine features, but evaluates them and selects the most quality ones.**\n",
    "\n",
    "**In practice, PCA can be applied as a pre-processing step to generalize variables in a dataset, and then fed into a specific classifier to enhance the overall performance. Now we investigate how good PCA is for our problem by combining with Random Forest classifier.**"
   ]
  },
  {
   "cell_type": "code",
   "execution_count": 25,
   "metadata": {},
   "outputs": [],
   "source": [
    "from sklearn.decomposition import PCA\n",
    "from sklearn.pipeline import Pipeline\n"
   ]
  },
  {
   "cell_type": "code",
   "execution_count": 26,
   "metadata": {},
   "outputs": [
    {
     "name": "stdout",
     "output_type": "stream",
     "text": [
      "Cross Validation Accuracy using Random Forest/PCA:  0.9290\n",
      "Cross Validation F-score using Random Forest/PCA:  0.8679\n"
     ]
    }
   ],
   "source": [
    "pca = PCA()\n",
    "pipe = Pipeline([('pca', PCA()),\n",
    "                 ('tree', RandomForestClassifier())])\n",
    "pca_acc = cross_val_score(pipe, X_norm[:,max_IG[0:i]], y_norm, cv=10).mean()\n",
    "pca_f1  = cross_val_score(pipe, X_norm[:,max_IG[0:i]], y_norm, cv=10,scoring='f1_macro').mean()\n",
    "\n",
    "print ('Cross Validation Accuracy using Random Forest/PCA: ', \"%.4f\" % pca_acc)\n",
    "print ('Cross Validation F-score using Random Forest/PCA: ', \"%.4f\" % pca_f1)\n"
   ]
  },
  {
   "cell_type": "markdown",
   "metadata": {},
   "source": [
    "As we can see, Random Forest combined with PCA gives us very promising perfomance in terms of both classification accuracy and F-score. It can attain the accuracy of **92.90%** compared to **87.60%** when only using Random Forest and the best accuracy **88.40%** of using Random forest with IG feature selection method. Also, PCA performs very well on F-score with **86.79%**, far better than **78.85%** and **82.42%** by Random Forest and Random Forest/IG methods, respectively."
   ]
  },
  {
   "cell_type": "markdown",
   "metadata": {},
   "source": [
    "# 5 Using Active Learning to query data"
   ]
  },
  {
   "cell_type": "markdown",
   "metadata": {},
   "source": [
    "**The way we label data generated as in the aforementioned section is not really reliable, because these labels are assigned by using K-means clustering, not by manual labours. In practice, data accquired to train is usually labeled by human and this work becomes tedious and laborious. However, not all data obtained is important and worth to be labeled, therefore the question of choosing what kind of data to assign a label is very actively paid attention in both academic and industry. This problem is very tough and remains to be challenged. However, thanks to active learning, we can partly meet some conditions to choose vital data to label. In this work, I try to use a built-in active learning package to help imagining how active learning works in our problem.**"
   ]
  },
  {
   "cell_type": "code",
   "execution_count": 28,
   "metadata": {},
   "outputs": [
    {
     "name": "stdout",
     "output_type": "stream",
     "text": [
      "The next sample needed to be labled is: \n",
      "[[32.3 10.1  1.3  1.  14.8 19.3  6.3  2.2  6.4 22.3 27.1 11.   1.3 17.1\n",
      "  12.7  6.3  1.1 18.3 22.1 12.5]]\n",
      "which is located at row 834 in your dataset\n"
     ]
    }
   ],
   "source": [
    "# Import Active Learning \n",
    "from modAL.models import ActiveLearner\n",
    "\n",
    "# initializing the learner\n",
    "learner = ActiveLearner(\n",
    "    estimator=RandomForestClassifier(),\n",
    "    X_training=X, y_training=y\n",
    "    )\n",
    "# query for labels\n",
    "query_idx, query_inst = learner.query(X_norm)\n",
    "\n",
    "# select label for queried instance\n",
    "learner.teach(X_norm[query_idx], y_norm[query_idx])\n",
    "\n",
    "print ('The next sample needed to be labled is: ')\n",
    "print (query_inst)\n",
    "print ('which is located at row',query_idx[0],'in your dataset')"
   ]
  },
  {
   "cell_type": "markdown",
   "metadata": {},
   "source": [
    "As the result presented above, the sample at the $834^{th}$ row is a suggestion to be labeled. After labeling this sample, we put it into the set of labeled samples that we have before. This makes our labeled set become more reliable. The process is repeated until we obtain the training set as wish."
   ]
  },
  {
   "cell_type": "code",
   "execution_count": null,
   "metadata": {},
   "outputs": [],
   "source": []
  }
 ],
 "metadata": {
  "kernelspec": {
   "display_name": "Python 3",
   "language": "python",
   "name": "python3"
  },
  "language_info": {
   "codemirror_mode": {
    "name": "ipython",
    "version": 3
   },
   "file_extension": ".py",
   "mimetype": "text/x-python",
   "name": "python",
   "nbconvert_exporter": "python",
   "pygments_lexer": "ipython3",
   "version": "3.6.8"
  }
 },
 "nbformat": 4,
 "nbformat_minor": 2
}
